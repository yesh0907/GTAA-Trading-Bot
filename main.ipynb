{
 "metadata": {
  "language_info": {
   "codemirror_mode": {
    "name": "ipython",
    "version": 3
   },
   "file_extension": ".py",
   "mimetype": "text/x-python",
   "name": "python",
   "nbconvert_exporter": "python",
   "pygments_lexer": "ipython3",
   "version": "3.8.5-final"
  },
  "orig_nbformat": 2,
  "kernelspec": {
   "name": "python3",
   "display_name": "Python 3.8.5 64-bit ('TradingBot': venv)",
   "metadata": {
    "interpreter": {
     "hash": "ac7baa3aae3c597f23c56de392f148a79e63592c197d6bd740d1f53b084f1ea8"
    }
   }
  }
 },
 "nbformat": 4,
 "nbformat_minor": 2,
 "cells": [
  {
   "cell_type": "code",
   "execution_count": 1,
   "metadata": {},
   "outputs": [],
   "source": [
    "import numpy as np\n",
    "import pandas as pd\n",
    "import csv"
   ]
  },
  {
   "source": [
    "Import data"
   ],
   "cell_type": "markdown",
   "metadata": {}
  },
  {
   "cell_type": "code",
   "execution_count": 2,
   "metadata": {},
   "outputs": [
    {
     "output_type": "execute_result",
     "data": {
      "text/plain": [
       "     Date  Price (SP500)  Unnamed: 2   Date1  Price (MSCI)  Unnamed: 5  \\\n",
       "0  1/1/72         103.94         NaN  1/1/72        124.25         NaN   \n",
       "1  2/1/72         106.57         NaN  2/1/72        132.41         NaN   \n",
       "2  3/1/72         107.20         NaN  3/1/72        136.78         NaN   \n",
       "3  4/1/72         107.67         NaN  4/1/72        140.06         NaN   \n",
       "4  5/1/72         109.53         NaN  5/1/72        144.62         NaN   \n",
       "\n",
       "    Date2  Price (GFD)  Unnamed: 8   Date3  Price (GSCI)  Unnamed: 11   Date4  \\\n",
       "0  1/1/72         6.09         NaN  1/1/72        144.75          NaN  1/1/72   \n",
       "1  2/1/72         6.04         NaN  2/1/72        144.35          NaN  2/1/72   \n",
       "2  3/1/72         6.12         NaN  3/1/72        146.26          NaN  3/1/72   \n",
       "3  4/1/72         6.14         NaN  4/1/72        150.54          NaN  4/1/72   \n",
       "4  5/1/72         6.05         NaN  5/1/72        154.06          NaN  5/1/72   \n",
       "\n",
       "   Price (NAREIT)  Unnamed: 14   Date5  Price (SP500 TR)  \n",
       "0          101.22          NaN  1/1/88            257.47  \n",
       "1          102.18          NaN  2/1/88            269.48  \n",
       "2          102.44          NaN  3/1/88            261.15  \n",
       "3          102.70          NaN  4/1/88            264.04  \n",
       "4          101.15          NaN  5/1/88            266.32  "
      ],
      "text/html": "<div>\n<style scoped>\n    .dataframe tbody tr th:only-of-type {\n        vertical-align: middle;\n    }\n\n    .dataframe tbody tr th {\n        vertical-align: top;\n    }\n\n    .dataframe thead th {\n        text-align: right;\n    }\n</style>\n<table border=\"1\" class=\"dataframe\">\n  <thead>\n    <tr style=\"text-align: right;\">\n      <th></th>\n      <th>Date</th>\n      <th>Price (SP500)</th>\n      <th>Unnamed: 2</th>\n      <th>Date1</th>\n      <th>Price (MSCI)</th>\n      <th>Unnamed: 5</th>\n      <th>Date2</th>\n      <th>Price (GFD)</th>\n      <th>Unnamed: 8</th>\n      <th>Date3</th>\n      <th>Price (GSCI)</th>\n      <th>Unnamed: 11</th>\n      <th>Date4</th>\n      <th>Price (NAREIT)</th>\n      <th>Unnamed: 14</th>\n      <th>Date5</th>\n      <th>Price (SP500 TR)</th>\n    </tr>\n  </thead>\n  <tbody>\n    <tr>\n      <th>0</th>\n      <td>1/1/72</td>\n      <td>103.94</td>\n      <td>NaN</td>\n      <td>1/1/72</td>\n      <td>124.25</td>\n      <td>NaN</td>\n      <td>1/1/72</td>\n      <td>6.09</td>\n      <td>NaN</td>\n      <td>1/1/72</td>\n      <td>144.75</td>\n      <td>NaN</td>\n      <td>1/1/72</td>\n      <td>101.22</td>\n      <td>NaN</td>\n      <td>1/1/88</td>\n      <td>257.47</td>\n    </tr>\n    <tr>\n      <th>1</th>\n      <td>2/1/72</td>\n      <td>106.57</td>\n      <td>NaN</td>\n      <td>2/1/72</td>\n      <td>132.41</td>\n      <td>NaN</td>\n      <td>2/1/72</td>\n      <td>6.04</td>\n      <td>NaN</td>\n      <td>2/1/72</td>\n      <td>144.35</td>\n      <td>NaN</td>\n      <td>2/1/72</td>\n      <td>102.18</td>\n      <td>NaN</td>\n      <td>2/1/88</td>\n      <td>269.48</td>\n    </tr>\n    <tr>\n      <th>2</th>\n      <td>3/1/72</td>\n      <td>107.20</td>\n      <td>NaN</td>\n      <td>3/1/72</td>\n      <td>136.78</td>\n      <td>NaN</td>\n      <td>3/1/72</td>\n      <td>6.12</td>\n      <td>NaN</td>\n      <td>3/1/72</td>\n      <td>146.26</td>\n      <td>NaN</td>\n      <td>3/1/72</td>\n      <td>102.44</td>\n      <td>NaN</td>\n      <td>3/1/88</td>\n      <td>261.15</td>\n    </tr>\n    <tr>\n      <th>3</th>\n      <td>4/1/72</td>\n      <td>107.67</td>\n      <td>NaN</td>\n      <td>4/1/72</td>\n      <td>140.06</td>\n      <td>NaN</td>\n      <td>4/1/72</td>\n      <td>6.14</td>\n      <td>NaN</td>\n      <td>4/1/72</td>\n      <td>150.54</td>\n      <td>NaN</td>\n      <td>4/1/72</td>\n      <td>102.70</td>\n      <td>NaN</td>\n      <td>4/1/88</td>\n      <td>264.04</td>\n    </tr>\n    <tr>\n      <th>4</th>\n      <td>5/1/72</td>\n      <td>109.53</td>\n      <td>NaN</td>\n      <td>5/1/72</td>\n      <td>144.62</td>\n      <td>NaN</td>\n      <td>5/1/72</td>\n      <td>6.05</td>\n      <td>NaN</td>\n      <td>5/1/72</td>\n      <td>154.06</td>\n      <td>NaN</td>\n      <td>5/1/72</td>\n      <td>101.15</td>\n      <td>NaN</td>\n      <td>5/1/88</td>\n      <td>266.32</td>\n    </tr>\n  </tbody>\n</table>\n</div>"
     },
     "metadata": {},
     "execution_count": 2
    }
   ],
   "source": [
    "pd.options.display.max_rows = 4000\n",
    "df = pd.read_csv('./AllDataShort.csv')\n",
    "df.head()"
   ]
  },
  {
   "cell_type": "code",
   "execution_count": 3,
   "metadata": {},
   "outputs": [
    {
     "output_type": "stream",
     "name": "stdout",
     "text": [
      "<class 'pandas.core.frame.DataFrame'>\nRangeIndex: 492 entries, 0 to 491\nData columns (total 17 columns):\n #   Column            Non-Null Count  Dtype  \n---  ------            --------------  -----  \n 0   Date              492 non-null    object \n 1   Price (SP500)     492 non-null    float64\n 2   Unnamed: 2        0 non-null      float64\n 3   Date1             492 non-null    object \n 4   Price (MSCI)      469 non-null    float64\n 5   Unnamed: 5        0 non-null      float64\n 6   Date2             492 non-null    object \n 7   Price (GFD)       492 non-null    float64\n 8   Unnamed: 8        0 non-null      float64\n 9   Date3             492 non-null    object \n 10  Price (GSCI)      492 non-null    float64\n 11  Unnamed: 11       0 non-null      float64\n 12  Date4             492 non-null    object \n 13  Price (NAREIT)    492 non-null    float64\n 14  Unnamed: 14       0 non-null      float64\n 15  Date5             300 non-null    object \n 16  Price (SP500 TR)  300 non-null    float64\ndtypes: float64(11), object(6)\nmemory usage: 65.5+ KB\n"
     ]
    }
   ],
   "source": [
    "df.info()"
   ]
  },
  {
   "source": [
    "Drop unessential columns"
   ],
   "cell_type": "markdown",
   "metadata": {}
  },
  {
   "cell_type": "code",
   "execution_count": 4,
   "metadata": {},
   "outputs": [],
   "source": [
    "unessential_cols = [\n",
    "    'Unnamed: 2', \n",
    "    'Unnamed: 5', \n",
    "    'Unnamed: 8', \n",
    "    'Unnamed: 11', \n",
    "    'Unnamed: 14',\n",
    "    'Date1',\n",
    "    'Date2',\n",
    "    'Date3',\n",
    "    'Date4',\n",
    "    'Date5',\n",
    "]\n",
    "df = df.drop(unessential_cols, axis=1)"
   ]
  },
  {
   "cell_type": "code",
   "execution_count": 5,
   "metadata": {},
   "outputs": [
    {
     "output_type": "stream",
     "name": "stdout",
     "text": [
      "<class 'pandas.core.frame.DataFrame'>\nRangeIndex: 492 entries, 0 to 491\nData columns (total 7 columns):\n #   Column            Non-Null Count  Dtype  \n---  ------            --------------  -----  \n 0   Date              492 non-null    object \n 1   Price (SP500)     492 non-null    float64\n 2   Price (MSCI)      469 non-null    float64\n 3   Price (GFD)       492 non-null    float64\n 4   Price (GSCI)      492 non-null    float64\n 5   Price (NAREIT)    492 non-null    float64\n 6   Price (SP500 TR)  300 non-null    float64\ndtypes: float64(6), object(1)\nmemory usage: 27.0+ KB\n"
     ]
    }
   ],
   "source": [
    "df.info()"
   ]
  },
  {
   "cell_type": "code",
   "execution_count": 6,
   "metadata": {},
   "outputs": [
    {
     "output_type": "execute_result",
     "data": {
      "text/plain": [
       "     Date  Price (SP500)  Price (MSCI)  Price (GFD)  Price (GSCI)  \\\n",
       "0  1/1/72         103.94        124.25         6.09        144.75   \n",
       "1  2/1/72         106.57        132.41         6.04        144.35   \n",
       "2  3/1/72         107.20        136.78         6.12        146.26   \n",
       "3  4/1/72         107.67        140.06         6.14        150.54   \n",
       "4  5/1/72         109.53        144.62         6.05        154.06   \n",
       "\n",
       "   Price (NAREIT)  Price (SP500 TR)  \n",
       "0          101.22            257.47  \n",
       "1          102.18            269.48  \n",
       "2          102.44            261.15  \n",
       "3          102.70            264.04  \n",
       "4          101.15            266.32  "
      ],
      "text/html": "<div>\n<style scoped>\n    .dataframe tbody tr th:only-of-type {\n        vertical-align: middle;\n    }\n\n    .dataframe tbody tr th {\n        vertical-align: top;\n    }\n\n    .dataframe thead th {\n        text-align: right;\n    }\n</style>\n<table border=\"1\" class=\"dataframe\">\n  <thead>\n    <tr style=\"text-align: right;\">\n      <th></th>\n      <th>Date</th>\n      <th>Price (SP500)</th>\n      <th>Price (MSCI)</th>\n      <th>Price (GFD)</th>\n      <th>Price (GSCI)</th>\n      <th>Price (NAREIT)</th>\n      <th>Price (SP500 TR)</th>\n    </tr>\n  </thead>\n  <tbody>\n    <tr>\n      <th>0</th>\n      <td>1/1/72</td>\n      <td>103.94</td>\n      <td>124.25</td>\n      <td>6.09</td>\n      <td>144.75</td>\n      <td>101.22</td>\n      <td>257.47</td>\n    </tr>\n    <tr>\n      <th>1</th>\n      <td>2/1/72</td>\n      <td>106.57</td>\n      <td>132.41</td>\n      <td>6.04</td>\n      <td>144.35</td>\n      <td>102.18</td>\n      <td>269.48</td>\n    </tr>\n    <tr>\n      <th>2</th>\n      <td>3/1/72</td>\n      <td>107.20</td>\n      <td>136.78</td>\n      <td>6.12</td>\n      <td>146.26</td>\n      <td>102.44</td>\n      <td>261.15</td>\n    </tr>\n    <tr>\n      <th>3</th>\n      <td>4/1/72</td>\n      <td>107.67</td>\n      <td>140.06</td>\n      <td>6.14</td>\n      <td>150.54</td>\n      <td>102.70</td>\n      <td>264.04</td>\n    </tr>\n    <tr>\n      <th>4</th>\n      <td>5/1/72</td>\n      <td>109.53</td>\n      <td>144.62</td>\n      <td>6.05</td>\n      <td>154.06</td>\n      <td>101.15</td>\n      <td>266.32</td>\n    </tr>\n  </tbody>\n</table>\n</div>"
     },
     "metadata": {},
     "execution_count": 6
    }
   ],
   "source": [
    "df.head()"
   ]
  },
  {
   "source": [
    "Trading algorithm"
   ],
   "cell_type": "markdown",
   "metadata": {}
  },
  {
   "cell_type": "code",
   "execution_count": 82,
   "metadata": {},
   "outputs": [],
   "source": [
    "class GTAA(object):\n",
    "\n",
    "    def __init__(self, df, name, initial_capital=100.0, sma=10):\n",
    "        assert not df.empty, 'Dataframe is empty'\n",
    "        self.df = df\n",
    "        self.name = name\n",
    "        assert self.name in self.df.columns, \"The column is not in the dataframe\"\n",
    "        assert 'Date' in self.df.columns, \"There is no date column in the dataframe\"\n",
    "\n",
    "        self.monthly_price = self.df[name]\n",
    "        self.capital = initial_capital\n",
    "        self.sma_price = self.df[name].rolling(sma).mean()\n",
    "        self.log = [] # [{ type: buy or sell, date, price, sma_price, capital }]\n",
    "\n",
    "    def simulate(self):\n",
    "        for i in range(9, len(self.monthly_price)):\n",
    "            # buy if monthly price > sma price and if previous action was sell\n",
    "            if self.monthly_price[i] > self.sma_price[i] and \\\n",
    "                (len(self.log) == 0 or (len(self.log) > 0 and self.log[-1].get('type') == 'SELL')):\n",
    "\n",
    "                new_entry = {\n",
    "                    'type': 'BUY',\n",
    "                    'date': self.df['Date'][i],\n",
    "                    'price': self.monthly_price[i],\n",
    "                    'sma_price': self.sma_price[i],\n",
    "                    'capital': self.capital,\n",
    "                }\n",
    "                self.log.append(new_entry)\n",
    "            elif self.monthly_price[i] < self.sma_price[i] and \\\n",
    "                (len(self.log) == 0 or (len(self.log) > 0 and self.log[-1].get('type') == 'BUY')):\n",
    "                \n",
    "                self.capital = self._compute_capital(self.log[-1].get('price'), self.monthly_price[i])\n",
    "                new_entry = {\n",
    "                    'type': 'SELL',\n",
    "                    'date': self.df['Date'][i],\n",
    "                    'price': self.monthly_price[i],\n",
    "                    'sma_price': self.sma_price[i],\n",
    "                    'capital': self.capital,\n",
    "                }\n",
    "                self.log.append(new_entry)\n",
    "\n",
    "        if self.log[-1].get('type') == 'BUY':\n",
    "            self.capital = self._compute_capital(self.log[-1].get('price'), self.monthly_price.values[-1])\n",
    "        for entry in self.log:\n",
    "            print(entry)\n",
    "        print('Final Capital:', round(self.capital, 2))\n",
    "                    \n",
    "    def _compute_capital(self, prev_price, new_price):\n",
    "        return self.capital * (1 + self._compute_percent_change(prev_price, new_price))\n",
    "    \n",
    "    def _compute_percent_change(self, prev_price, new_price):\n",
    "        return (new_price - prev_price) / prev_price\n"
   ]
  },
  {
   "cell_type": "code",
   "execution_count": 83,
   "metadata": {},
   "outputs": [
    {
     "output_type": "stream",
     "name": "stdout",
     "text": [
      "{'type': 'BUY', 'date': '10/1/72', 'price': 111.58, 'sma_price': 108.266, 'capital': 100.0}\n{'type': 'SELL', 'date': '2/1/73', 'price': 111.68, 'sma_price': 111.971, 'capital': 100.0896217960208}\n{'type': 'BUY', 'date': '1/1/75', 'price': 76.98, 'sma_price': 76.8, 'capital': 100.0896217960208}\n{'type': 'SELL', 'date': '9/1/75', 'price': 83.87, 'sma_price': 84.363, 'capital': 109.04802000561527}\n{'type': 'BUY', 'date': '10/1/75', 'price': 89.04, 'sma_price': 86.41099999999999, 'capital': 109.04802000561527}\n{'type': 'SELL', 'date': '11/1/76', 'price': 102.1, 'sma_price': 102.51700000000001, 'capital': 125.0427093730157}\n{'type': 'BUY', 'date': '12/1/76', 'price': 107.46, 'sma_price': 103.292, 'capital': 125.0427093730157}\n{'type': 'SELL', 'date': '1/1/77', 'price': 102.03, 'sma_price': 103.218, 'capital': 118.72424750910844}\n{'type': 'BUY', 'date': '4/1/78', 'price': 96.83, 'sma_price': 93.675, 'capital': 118.72424750910844}\n{'type': 'SELL', 'date': '10/1/78', 'price': 93.15, 'sma_price': 95.47600000000001, 'capital': 114.21216209308533}\n{'type': 'BUY', 'date': '1/1/79', 'price': 99.93, 'sma_price': 98.00000000000001, 'capital': 114.21216209308533}\n{'type': 'SELL', 'date': '2/1/79', 'price': 96.28, 'sma_price': 97.94500000000001, 'capital': 110.04049801183082}\n{'type': 'BUY', 'date': '3/1/79', 'price': 101.59, 'sma_price': 98.38000000000001, 'capital': 110.04049801183082}\n{'type': 'SELL', 'date': '10/1/79', 'price': 101.82, 'sma_price': 102.582, 'capital': 110.28962995929336}\n{'type': 'BUY', 'date': '11/1/79', 'price': 106.16, 'sma_price': 103.205, 'capital': 110.28962995929336}\n{'type': 'SELL', 'date': '3/1/80', 'price': 102.09, 'sma_price': 107.119, 'capital': 106.06130673082384}\n{'type': 'BUY', 'date': '5/1/80', 'price': 111.24, 'sma_price': 108.2, 'capital': 106.06130673082384}\n{'type': 'SELL', 'date': '6/1/81', 'price': 131.21, 'sma_price': 132.26399999999998, 'capital': 125.10161862775439}\n{'type': 'BUY', 'date': '8/1/82', 'price': 119.51, 'sma_price': 115.89000000000001, 'capital': 125.10161862775439}\n{'type': 'SELL', 'date': '1/1/84', 'price': 163.41, 'sma_price': 164.578, 'capital': 171.05560622509702}\n{'type': 'BUY', 'date': '8/1/84', 'price': 166.68, 'sma_price': 159.20999999999998, 'capital': 171.05560622509702}\n{'type': 'SELL', 'date': '9/1/85', 'price': 182.08, 'sma_price': 183.157, 'capital': 186.8598798984021}\n{'type': 'BUY', 'date': '10/1/85', 'price': 189.82, 'sma_price': 185.41500000000002, 'capital': 186.8598798984021}\n{'type': 'SELL', 'date': '9/1/86', 'price': 231.32, 'sma_price': 234.296, 'capital': 227.71271424559254}\n{'type': 'BUY', 'date': '10/1/86', 'price': 243.98, 'sma_price': 237.56599999999997, 'capital': 227.71271424559254}\n{'type': 'SELL', 'date': '12/1/86', 'price': 242.17, 'sma_price': 242.83499999999998, 'capital': 226.02339539656998}\n{'type': 'BUY', 'date': '1/1/87', 'price': 274.08, 'sma_price': 246.35299999999998, 'capital': 226.02339539656998}\n{'type': 'SELL', 'date': '10/1/87', 'price': 251.79, 'sma_price': 295.452, 'capital': 207.64167661596014}\n{'type': 'BUY', 'date': '6/1/88', 'price': 273.5, 'sma_price': 263.177, 'capital': 207.64167661596014}\n{'type': 'SELL', 'date': '1/1/90', 'price': 329.08, 'sma_price': 336.36499999999995, 'capital': 249.838109472688}\n{'type': 'BUY', 'date': '5/1/90', 'price': 361.23, 'sma_price': 343.329, 'capital': 249.838109472688}\n{'type': 'SELL', 'date': '8/1/90', 'price': 322.56, 'sma_price': 342.906, 'capital': 223.09271265263195}\n{'type': 'BUY', 'date': '1/1/91', 'price': 343.93, 'sma_price': 333.51800000000003, 'capital': 223.09271265263195}\n{'type': 'SELL', 'date': '11/1/91', 'price': 375.22, 'sma_price': 381.739, 'capital': 243.38920024865686}\n{'type': 'BUY', 'date': '12/1/91', 'price': 417.09, 'sma_price': 386.74100000000004, 'capital': 243.38920024865686}\n{'type': 'SELL', 'date': '3/1/94', 'price': 445.77, 'sma_price': 461.174, 'capital': 260.12516194309086}\n{'type': 'BUY', 'date': '8/1/94', 'price': 475.49, 'sma_price': 460.8190000000001, 'capital': 260.12516194309086}\n{'type': 'SELL', 'date': '11/1/94', 'price': 453.69, 'sma_price': 458.709, 'capital': 248.19908877570694}\n{'type': 'BUY', 'date': '12/1/94', 'price': 459.27, 'sma_price': 457.9219999999999, 'capital': 248.19908877570694}\n{'type': 'SELL', 'date': '8/1/98', 'price': 957.28, 'sma_price': 1047.156, 'capital': 517.3340817018502}\n{'type': 'BUY', 'date': '10/1/98', 'price': 1098.67, 'sma_price': 1066.141, 'capital': 517.3340817018502}\n{'type': 'SELL', 'date': '9/1/99', 'price': 1282.71, 'sma_price': 1297.514, 'capital': 603.9935557899827}\n{'type': 'BUY', 'date': '10/1/99', 'price': 1362.93, 'sma_price': 1310.884, 'capital': 603.9935557899827}\n{'type': 'SELL', 'date': '9/1/00', 'price': 1436.51, 'sma_price': 1444.136, 'capital': 636.6011334609026}\n{'type': 'BUY', 'date': '3/1/02', 'price': 1147.39, 'sma_price': 1134.176, 'capital': 636.6011334609026}\n{'type': 'SELL', 'date': '4/1/02', 'price': 1076.92, 'sma_price': 1119.43, 'capital': 597.5025864324382}\n{'type': 'BUY', 'date': '4/1/03', 'price': 916.92, 'sma_price': 880.6809999999999, 'capital': 597.5025864324382}\n{'type': 'SELL', 'date': '7/1/04', 'price': 1101.72, 'sma_price': 1109.3650000000002, 'capital': 717.925827252482}\n{'type': 'BUY', 'date': '10/1/04', 'price': 1130.2, 'sma_price': 1122.184, 'capital': 717.925827252482}\n{'type': 'SELL', 'date': '11/1/07', 'price': 1481.14, 'sma_price': 1483.0549999999998, 'capital': 940.8499909544693}\n{'type': 'BUY', 'date': '6/1/09', 'price': 919.32, 'sma_price': 900.4709999999999, 'capital': 940.8499909544693}\n{'type': 'SELL', 'date': '5/1/10', 'price': 1089.41, 'sma_price': 1094.851, 'capital': 1114.9234093087373}\n{'type': 'BUY', 'date': '7/1/10', 'price': 1101.6, 'sma_price': 1100.312, 'capital': 1114.9234093087373}\n{'type': 'SELL', 'date': '8/1/10', 'price': 1049.33, 'sma_price': 1101.626, 'capital': 1062.021224664068}\n{'type': 'BUY', 'date': '9/1/10', 'price': 1141.2, 'sma_price': 1106.183, 'capital': 1062.021224664068}\n{'type': 'SELL', 'date': '8/1/11', 'price': 1218.89, 'sma_price': 1291.798, 'capital': 1134.3209345695636}\n{'type': 'BUY', 'date': '1/1/12', 'price': 1312.41, 'sma_price': 1274.2310000000002, 'capital': 1134.3209345695636}\nFinal Capital: 1232.66\n"
     ]
    }
   ],
   "source": [
    "sp_model = GTAA(df, 'Price (SP500)')\n",
    "sp_model.simulate()"
   ]
  }
 ]
}