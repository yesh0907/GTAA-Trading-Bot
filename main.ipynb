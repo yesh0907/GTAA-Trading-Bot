{
 "metadata": {
  "language_info": {
   "codemirror_mode": {
    "name": "ipython",
    "version": 3
   },
   "file_extension": ".py",
   "mimetype": "text/x-python",
   "name": "python",
   "nbconvert_exporter": "python",
   "pygments_lexer": "ipython3",
   "version": "3.8.5-final"
  },
  "orig_nbformat": 2,
  "kernelspec": {
   "name": "python3",
   "display_name": "Python 3.8.5 64-bit ('TradingBot': venv)",
   "metadata": {
    "interpreter": {
     "hash": "ac7baa3aae3c597f23c56de392f148a79e63592c197d6bd740d1f53b084f1ea8"
    }
   }
  }
 },
 "nbformat": 4,
 "nbformat_minor": 2,
 "cells": [
  {
   "cell_type": "code",
   "execution_count": 3,
   "metadata": {},
   "outputs": [],
   "source": [
    "import numpy as np\n",
    "import pandas as pd\n",
    "import csv"
   ]
  },
  {
   "source": [
    "Import data"
   ],
   "cell_type": "markdown",
   "metadata": {}
  },
  {
   "cell_type": "code",
   "execution_count": 35,
   "metadata": {},
   "outputs": [
    {
     "output_type": "execute_result",
     "data": {
      "text/plain": [
       "     Date  Price (SP500)  Unnamed: 2   Date1  Price (MSCI)  Unnamed: 5  \\\n",
       "0  1/1/72         103.94         NaN  1/1/72        124.25         NaN   \n",
       "1  2/1/72         106.57         NaN  2/1/72        132.41         NaN   \n",
       "2  3/1/72         107.20         NaN  3/1/72        136.78         NaN   \n",
       "3  4/1/72         107.67         NaN  4/1/72        140.06         NaN   \n",
       "4  5/1/72         109.53         NaN  5/1/72        144.62         NaN   \n",
       "\n",
       "    Date2  Price (GFD)  Unnamed: 8   Date3  Price (GSCI)  Unnamed: 11   Date4  \\\n",
       "0  1/1/72         6.09         NaN  1/1/72        144.75          NaN  1/1/72   \n",
       "1  2/1/72         6.04         NaN  2/1/72        144.35          NaN  2/1/72   \n",
       "2  3/1/72         6.12         NaN  3/1/72        146.26          NaN  3/1/72   \n",
       "3  4/1/72         6.14         NaN  4/1/72        150.54          NaN  4/1/72   \n",
       "4  5/1/72         6.05         NaN  5/1/72        154.06          NaN  5/1/72   \n",
       "\n",
       "   Price (NAREIT)  Unnamed: 14   Date5  Price (SP500 TR)  \n",
       "0          101.22          NaN  1/1/88            257.47  \n",
       "1          102.18          NaN  2/1/88            269.48  \n",
       "2          102.44          NaN  3/1/88            261.15  \n",
       "3          102.70          NaN  4/1/88            264.04  \n",
       "4          101.15          NaN  5/1/88            266.32  "
      ],
      "text/html": "<div>\n<style scoped>\n    .dataframe tbody tr th:only-of-type {\n        vertical-align: middle;\n    }\n\n    .dataframe tbody tr th {\n        vertical-align: top;\n    }\n\n    .dataframe thead th {\n        text-align: right;\n    }\n</style>\n<table border=\"1\" class=\"dataframe\">\n  <thead>\n    <tr style=\"text-align: right;\">\n      <th></th>\n      <th>Date</th>\n      <th>Price (SP500)</th>\n      <th>Unnamed: 2</th>\n      <th>Date1</th>\n      <th>Price (MSCI)</th>\n      <th>Unnamed: 5</th>\n      <th>Date2</th>\n      <th>Price (GFD)</th>\n      <th>Unnamed: 8</th>\n      <th>Date3</th>\n      <th>Price (GSCI)</th>\n      <th>Unnamed: 11</th>\n      <th>Date4</th>\n      <th>Price (NAREIT)</th>\n      <th>Unnamed: 14</th>\n      <th>Date5</th>\n      <th>Price (SP500 TR)</th>\n    </tr>\n  </thead>\n  <tbody>\n    <tr>\n      <th>0</th>\n      <td>1/1/72</td>\n      <td>103.94</td>\n      <td>NaN</td>\n      <td>1/1/72</td>\n      <td>124.25</td>\n      <td>NaN</td>\n      <td>1/1/72</td>\n      <td>6.09</td>\n      <td>NaN</td>\n      <td>1/1/72</td>\n      <td>144.75</td>\n      <td>NaN</td>\n      <td>1/1/72</td>\n      <td>101.22</td>\n      <td>NaN</td>\n      <td>1/1/88</td>\n      <td>257.47</td>\n    </tr>\n    <tr>\n      <th>1</th>\n      <td>2/1/72</td>\n      <td>106.57</td>\n      <td>NaN</td>\n      <td>2/1/72</td>\n      <td>132.41</td>\n      <td>NaN</td>\n      <td>2/1/72</td>\n      <td>6.04</td>\n      <td>NaN</td>\n      <td>2/1/72</td>\n      <td>144.35</td>\n      <td>NaN</td>\n      <td>2/1/72</td>\n      <td>102.18</td>\n      <td>NaN</td>\n      <td>2/1/88</td>\n      <td>269.48</td>\n    </tr>\n    <tr>\n      <th>2</th>\n      <td>3/1/72</td>\n      <td>107.20</td>\n      <td>NaN</td>\n      <td>3/1/72</td>\n      <td>136.78</td>\n      <td>NaN</td>\n      <td>3/1/72</td>\n      <td>6.12</td>\n      <td>NaN</td>\n      <td>3/1/72</td>\n      <td>146.26</td>\n      <td>NaN</td>\n      <td>3/1/72</td>\n      <td>102.44</td>\n      <td>NaN</td>\n      <td>3/1/88</td>\n      <td>261.15</td>\n    </tr>\n    <tr>\n      <th>3</th>\n      <td>4/1/72</td>\n      <td>107.67</td>\n      <td>NaN</td>\n      <td>4/1/72</td>\n      <td>140.06</td>\n      <td>NaN</td>\n      <td>4/1/72</td>\n      <td>6.14</td>\n      <td>NaN</td>\n      <td>4/1/72</td>\n      <td>150.54</td>\n      <td>NaN</td>\n      <td>4/1/72</td>\n      <td>102.70</td>\n      <td>NaN</td>\n      <td>4/1/88</td>\n      <td>264.04</td>\n    </tr>\n    <tr>\n      <th>4</th>\n      <td>5/1/72</td>\n      <td>109.53</td>\n      <td>NaN</td>\n      <td>5/1/72</td>\n      <td>144.62</td>\n      <td>NaN</td>\n      <td>5/1/72</td>\n      <td>6.05</td>\n      <td>NaN</td>\n      <td>5/1/72</td>\n      <td>154.06</td>\n      <td>NaN</td>\n      <td>5/1/72</td>\n      <td>101.15</td>\n      <td>NaN</td>\n      <td>5/1/88</td>\n      <td>266.32</td>\n    </tr>\n  </tbody>\n</table>\n</div>"
     },
     "metadata": {},
     "execution_count": 35
    }
   ],
   "source": [
    "pd.options.display.max_rows = 4000\n",
    "df = pd.read_csv('./AllDataShort.csv')\n",
    "df.head()"
   ]
  },
  {
   "cell_type": "code",
   "execution_count": 36,
   "metadata": {},
   "outputs": [
    {
     "output_type": "stream",
     "name": "stdout",
     "text": [
      "<class 'pandas.core.frame.DataFrame'>\nRangeIndex: 492 entries, 0 to 491\nData columns (total 17 columns):\n #   Column            Non-Null Count  Dtype  \n---  ------            --------------  -----  \n 0   Date              492 non-null    object \n 1   Price (SP500)     492 non-null    float64\n 2   Unnamed: 2        0 non-null      float64\n 3   Date1             492 non-null    object \n 4   Price (MSCI)      469 non-null    float64\n 5   Unnamed: 5        0 non-null      float64\n 6   Date2             492 non-null    object \n 7   Price (GFD)       492 non-null    float64\n 8   Unnamed: 8        0 non-null      float64\n 9   Date3             492 non-null    object \n 10  Price (GSCI)      492 non-null    float64\n 11  Unnamed: 11       0 non-null      float64\n 12  Date4             492 non-null    object \n 13  Price (NAREIT)    492 non-null    float64\n 14  Unnamed: 14       0 non-null      float64\n 15  Date5             300 non-null    object \n 16  Price (SP500 TR)  300 non-null    float64\ndtypes: float64(11), object(6)\nmemory usage: 65.5+ KB\n"
     ]
    }
   ],
   "source": [
    "df.info()"
   ]
  },
  {
   "source": [
    "Drop unessential columns"
   ],
   "cell_type": "markdown",
   "metadata": {}
  },
  {
   "cell_type": "code",
   "execution_count": 37,
   "metadata": {},
   "outputs": [],
   "source": [
    "unessential_cols = [\n",
    "    'Unnamed: 2', \n",
    "    'Unnamed: 5', \n",
    "    'Unnamed: 8', \n",
    "    'Unnamed: 11', \n",
    "    'Unnamed: 14',\n",
    "    'Date1',\n",
    "    'Date2',\n",
    "    'Date3',\n",
    "    'Date4',\n",
    "    'Date5',\n",
    "]\n",
    "df = df.drop(unessential_cols, axis=1)"
   ]
  },
  {
   "cell_type": "code",
   "execution_count": 38,
   "metadata": {},
   "outputs": [
    {
     "output_type": "stream",
     "name": "stdout",
     "text": [
      "<class 'pandas.core.frame.DataFrame'>\nRangeIndex: 492 entries, 0 to 491\nData columns (total 7 columns):\n #   Column            Non-Null Count  Dtype  \n---  ------            --------------  -----  \n 0   Date              492 non-null    object \n 1   Price (SP500)     492 non-null    float64\n 2   Price (MSCI)      469 non-null    float64\n 3   Price (GFD)       492 non-null    float64\n 4   Price (GSCI)      492 non-null    float64\n 5   Price (NAREIT)    492 non-null    float64\n 6   Price (SP500 TR)  300 non-null    float64\ndtypes: float64(6), object(1)\nmemory usage: 27.0+ KB\n"
     ]
    }
   ],
   "source": [
    "df.info()"
   ]
  },
  {
   "cell_type": "code",
   "execution_count": 41,
   "metadata": {},
   "outputs": [
    {
     "output_type": "execute_result",
     "data": {
      "text/plain": [
       "     Date  Price (SP500)  Price (MSCI)  Price (GFD)  Price (GSCI)  \\\n",
       "0  1/1/72         103.94        124.25         6.09        144.75   \n",
       "1  2/1/72         106.57        132.41         6.04        144.35   \n",
       "2  3/1/72         107.20        136.78         6.12        146.26   \n",
       "3  4/1/72         107.67        140.06         6.14        150.54   \n",
       "4  5/1/72         109.53        144.62         6.05        154.06   \n",
       "\n",
       "   Price (NAREIT)  Price (SP500 TR)  \n",
       "0          101.22            257.47  \n",
       "1          102.18            269.48  \n",
       "2          102.44            261.15  \n",
       "3          102.70            264.04  \n",
       "4          101.15            266.32  "
      ],
      "text/html": "<div>\n<style scoped>\n    .dataframe tbody tr th:only-of-type {\n        vertical-align: middle;\n    }\n\n    .dataframe tbody tr th {\n        vertical-align: top;\n    }\n\n    .dataframe thead th {\n        text-align: right;\n    }\n</style>\n<table border=\"1\" class=\"dataframe\">\n  <thead>\n    <tr style=\"text-align: right;\">\n      <th></th>\n      <th>Date</th>\n      <th>Price (SP500)</th>\n      <th>Price (MSCI)</th>\n      <th>Price (GFD)</th>\n      <th>Price (GSCI)</th>\n      <th>Price (NAREIT)</th>\n      <th>Price (SP500 TR)</th>\n    </tr>\n  </thead>\n  <tbody>\n    <tr>\n      <th>0</th>\n      <td>1/1/72</td>\n      <td>103.94</td>\n      <td>124.25</td>\n      <td>6.09</td>\n      <td>144.75</td>\n      <td>101.22</td>\n      <td>257.47</td>\n    </tr>\n    <tr>\n      <th>1</th>\n      <td>2/1/72</td>\n      <td>106.57</td>\n      <td>132.41</td>\n      <td>6.04</td>\n      <td>144.35</td>\n      <td>102.18</td>\n      <td>269.48</td>\n    </tr>\n    <tr>\n      <th>2</th>\n      <td>3/1/72</td>\n      <td>107.20</td>\n      <td>136.78</td>\n      <td>6.12</td>\n      <td>146.26</td>\n      <td>102.44</td>\n      <td>261.15</td>\n    </tr>\n    <tr>\n      <th>3</th>\n      <td>4/1/72</td>\n      <td>107.67</td>\n      <td>140.06</td>\n      <td>6.14</td>\n      <td>150.54</td>\n      <td>102.70</td>\n      <td>264.04</td>\n    </tr>\n    <tr>\n      <th>4</th>\n      <td>5/1/72</td>\n      <td>109.53</td>\n      <td>144.62</td>\n      <td>6.05</td>\n      <td>154.06</td>\n      <td>101.15</td>\n      <td>266.32</td>\n    </tr>\n  </tbody>\n</table>\n</div>"
     },
     "metadata": {},
     "execution_count": 41
    }
   ],
   "source": [
    "df.head()"
   ]
  },
  {
   "cell_type": "code",
   "execution_count": null,
   "metadata": {},
   "outputs": [],
   "source": []
  }
 ]
}